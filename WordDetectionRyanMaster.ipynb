{
 "cells": [
  {
   "cell_type": "code",
   "execution_count": 1,
   "id": "859c0f36",
   "metadata": {},
   "outputs": [],
   "source": [
    "# Import required packages\n",
    "import cv2\n",
    "import pytesseract\n",
    "from dateutil import parser\n",
    "import json\n",
    "import datetime\n",
    "\n",
    "# Mention the installed location of Tesseract-OCR in your system\n",
    "pytesseract.pytesseract.tesseract_cmd = 'System_path_to_tesseract.exe'"
   ]
  },
  {
   "cell_type": "code",
   "execution_count": 2,
   "id": "4c6d36a4",
   "metadata": {
    "scrolled": true
   },
   "outputs": [],
   "source": [
    "# Read image from which text needs to be extracted\n",
    "receipt1 = cv2.imread(\"receipt1.jpg\")\n",
    " \n",
    "# Preprocessing the image starts\n",
    " \n",
    "# Convert the image to gray scale\n",
    "gray = cv2.cvtColor(receipt1, cv2.COLOR_BGR2GRAY)"
   ]
  },
  {
   "cell_type": "code",
   "execution_count": 3,
   "id": "3a413829",
   "metadata": {},
   "outputs": [],
   "source": [
    "# Performing OTSU threshold\n",
    "ret, thresh1 = cv2.threshold(gray, 0, 255, cv2.THRESH_OTSU | cv2.THRESH_BINARY_INV)\n",
    " \n",
    "# Specify structure shape and kernel size.\n",
    "# Kernel size increases or decreases the area\n",
    "# of the rectangle to be detected.\n",
    "# A smaller value like (10, 10) will detect\n",
    "# each word instead of a sentence.\n",
    "rect_kernel = cv2.getStructuringElement(cv2.MORPH_RECT, (18, 18))\n",
    " \n",
    "# Applying dilation on the threshold image\n",
    "dilation = cv2.dilate(thresh1, rect_kernel, iterations = 1)\n",
    " \n",
    "# Finding contours\n",
    "contours, hierarchy = cv2.findContours(dilation, cv2.RETR_EXTERNAL,\n",
    "                                                 cv2.CHAIN_APPROX_NONE)"
   ]
  },
  {
   "cell_type": "code",
   "execution_count": 4,
   "id": "0eda4b83",
   "metadata": {},
   "outputs": [],
   "source": [
    "# Creating a copy of image\n",
    "receipt2 = receipt1.copy()\n",
    " \n",
    "# A text file is created and flushed\n",
    "file = open(\"recognized.txt\", \"w+\")\n",
    "file.write(\"\")\n",
    "file.close()"
   ]
  },
  {
   "cell_type": "code",
   "execution_count": 5,
   "id": "0c20a00a",
   "metadata": {},
   "outputs": [],
   "source": [
    "# Looping through the identified contours\n",
    "# Then rectangular part is cropped and passed on\n",
    "# to pytesseract for extracting text from it\n",
    "# Extracted text is then written into the text file\n",
    "for cnt in contours:\n",
    "    x, y, w, h = cv2.boundingRect(cnt)\n",
    "     \n",
    "    # Drawing a rectangle on copied image\n",
    "    rect = cv2.rectangle(receipt2, (x, y), (x + w, y + h), (0, 255, 0), 2)\n",
    "     \n",
    "    # Cropping the text block for giving input to OCR\n",
    "    cropped = receipt2[y:y + h, x:x + w]\n",
    "     \n",
    "    # Open the file in append mode\n",
    "    file = open(\"data.txt\", \"w\")\n",
    "    \n",
    "    pytesseract.pytesseract.tesseract_cmd = r'C:\\\\\\Program Files\\\\\\Tesseract-OCR\\\\\\tesseract.exe'\n",
    "     \n",
    "    # Apply OCR on the cropped image\n",
    "    text = pytesseract.image_to_string(cropped)\n",
    "     \n",
    "    # Appending the text into file\n",
    "    file.write(text)\n",
    "    file.write(\"\\n\")\n",
    "file.close()\n"
   ]
  },
  {
   "cell_type": "code",
   "execution_count": 6,
   "id": "b4b50d73",
   "metadata": {
    "scrolled": true
   },
   "outputs": [
    {
     "name": "stdout",
     "output_type": "stream",
     "text": [
      "THE FRESH FARMER\n",
      "\n",
      "1468 Tanglewood Road\n",
      "Memphis, MS\n",
      "5-29-2018 09:28 AM\n",
      "TaBas\n",
      "\n",
      "CHIP (MC) HOST ALIA\n",
      "Ty DESC ant\n",
      "\n",
      "2 Eggs /Chz $10.98\n",
      "1 ‘Add Bacon Bfast $1.00\n",
      "1 ‘Add Sausage $1.08\n",
      "1 Shoestring $2.49\n",
      "1 Coffee $3.45\n",
      "\n"
     ]
    }
   ],
   "source": [
    "file = open(\"data.txt\", \"r\")\n",
    "file_contents = file.read()\n",
    "print (file_contents)\n",
    "     \n",
    "# Close the file\n",
    "file.close()"
   ]
  },
  {
   "cell_type": "code",
   "execution_count": 7,
   "id": "23af110c",
   "metadata": {},
   "outputs": [
    {
     "name": "stdout",
     "output_type": "stream",
     "text": [
      "['THE FRESH FARMER', '', '1468 Tanglewood Road', 'Memphis, MS', '5-29-2018 09:28 AM', 'TaBas', '', 'CHIP (MC) HOST ALIA', 'Ty DESC ant', '', '2 Eggs /Chz $10.98', '1 ‘Add Bacon Bfast $1.00', '1 ‘Add Sausage $1.08', '1 Shoestring $2.49', '1 Coffee $3.45']\n",
      "THE FRESH FARMER\n"
     ]
    }
   ],
   "source": [
    "contents_array = file_contents.splitlines()\n",
    "print(contents_array)\n",
    "merchant = contents_array[0]\n",
    "print(merchant)"
   ]
  },
  {
   "cell_type": "code",
   "execution_count": 8,
   "id": "65831421",
   "metadata": {},
   "outputs": [],
   "source": [
    "itemlist = []\n",
    "for content in contents_array:\n",
    "    \n",
    "    if ('$' in content) or ('Corona' in content) or ('Hurache' in content) or ('PIZZABBQ'in content) or ('Coke' in content):\n",
    "        itemlist.append(content)\n",
    "        \n",
    "    if ('AM' in content) or ('PM' in content):\n",
    "        dateTimeRaw = content\n",
    "        if ('Time:' in dateTimeRaw):\n",
    "            dateTimeRaw = dateTimeRaw.replace(\"Time:\", \" \")\n",
    "        dateTime = parser.parse(dateTimeRaw)\n",
    "        year = dateTime.strftime(\"%Y\")\n",
    "        month_num = dateTime.strftime(\"%m\")\n",
    "        datetime_object = datetime.datetime.strptime(month_num, \"%m\")\n",
    "        month= datetime_object.strftime(\"%b\")\n",
    "        date = dateTime.strftime(\"%d\")\n",
    "        time = dateTime.strftime(\"%H:%M:%S\")\n"
   ]
  },
  {
   "cell_type": "code",
   "execution_count": 9,
   "id": "8ef1ec2b",
   "metadata": {},
   "outputs": [
    {
     "name": "stdout",
     "output_type": "stream",
     "text": [
      "['2 Eggs /Chz $10.98', '1 ‘Add Bacon Bfast $1.00', '1 ‘Add Sausage $1.08', '1 Shoestring $2.49', '1 Coffee $3.45']\n",
      "2018-05-29 09:28:00\n"
     ]
    }
   ],
   "source": [
    "print(itemlist)\n",
    "print(dateTime)"
   ]
  },
  {
   "cell_type": "code",
   "execution_count": 10,
   "id": "5c6e86e8",
   "metadata": {},
   "outputs": [
    {
     "name": "stdout",
     "output_type": "stream",
     "text": [
      "['Eggs /Chz', '‘Add Bacon Bfast', '‘Add Sausage', 'Shoestring', 'Coffee']\n",
      "[2, 1, 1, 1, 1]\n",
      "[5.49, 1.0, 1.08, 2.49, 3.45]\n",
      "19.0\n"
     ]
    }
   ],
   "source": [
    "if ('$' in itemlist[0]):\n",
    "    quantityList = []\n",
    "    itemNameList = []\n",
    "    priceList = []\n",
    "    unitPriceList = []\n",
    "\n",
    "    for items in itemlist:\n",
    "        breaklist = items.split(\" \")\n",
    "        quantityList.append(int(breaklist.pop(0)))\n",
    "        priceList.append(float(breaklist.pop(-1).replace(\"$\", \"\")))\n",
    "        itemname = \" \".join(breaklist)\n",
    "        itemNameList.append(itemname)\n",
    "\n",
    "\n",
    "    for x in range(0, len(priceList)):\n",
    "        unitPriceList.append(priceList[x]/quantityList[x])\n",
    "        \n",
    "    totalPrice = sum(priceList)\n",
    "\n",
    "    print(itemNameList)\n",
    "    print(quantityList)\n",
    "    print(unitPriceList)\n",
    "    print(totalPrice)\n",
    "    \n",
    "\n",
    "elif ('Corona' in itemlist[0]) or ('Hurache' in itemlist[0]):\n",
    "    quantityList = []\n",
    "    itemNameList = []\n",
    "    priceList = []\n",
    "    unitPriceList = []\n",
    "\n",
    "    for items in itemlist:\n",
    "        breaklist = items.split(\" \")\n",
    "        quantityList.append(int(breaklist.pop(0)))\n",
    "        priceList.append(float(breaklist.pop(-1).replace(\"$\", \"\")))\n",
    "        itemname = \" \".join(breaklist)\n",
    "        itemNameList.append(itemname)\n",
    "\n",
    "\n",
    "    for x in range(0, len(priceList)):\n",
    "        unitPriceList.append(priceList[x]/quantityList[x])\n",
    "    \n",
    "    totalPrice = sum(priceList)\n",
    "\n",
    "    print(itemNameList)\n",
    "    print(quantityList)\n",
    "    print(unitPriceList)\n",
    "    print(totalPrice)\n",
    "\n",
    "elif ('PIZZABBQ'in itemlist[0]) or ('Coke' in itemlist[0]):\n",
    "    quantityList = []\n",
    "    itemNameList = []\n",
    "    unitPriceList = []\n",
    "    totalPriceList =[]\n",
    "\n",
    "    for items in itemlist:\n",
    "        breaklist = items.split(\" \")\n",
    "        quantityList.append(int(breaklist.pop(0)))\n",
    "        float(breaklist.pop(-1))\n",
    "        unitPriceList.append(float(breaklist.pop(-1)))\n",
    "        itemname = \" \".join(breaklist)\n",
    "        itemNameList.append(itemname)\n",
    "        \n",
    "    for x in range(0, len(unitPriceList)):\n",
    "        totalPriceList.append(unitPriceList[x]*quantityList[x])\n",
    "    \n",
    "    totalPrice = sum(totalPriceList)\n",
    "\n",
    "    print(quantityList)\n",
    "    print(itemNameList)\n",
    "    print(unitPriceList)\n",
    "    print(totalPrice)"
   ]
  },
  {
   "cell_type": "code",
   "execution_count": 11,
   "id": "f9a0f974",
   "metadata": {},
   "outputs": [],
   "source": [
    "data = {\n",
    "    \"Merchant\": merchant,\n",
    "    \"Date\": date,\n",
    "    \"Month\": month,\n",
    "    \"Year\": year,\n",
    "    \"items\": itemNameList,\n",
    "    \"qty\": quantityList,\n",
    "    \"prices\": unitPriceList,\n",
    "    \"Category\": \"\"\n",
    "}\n",
    "\n",
    "json_string = json.dumps(data)\n",
    "\n",
    "# # Directly from dictionary\n",
    "# with open('json_data.json', 'w') as outfile:\n",
    "#     json.dump(json_string, outfile)\n",
    "  \n",
    "# # Using a JSON string\n",
    "# with open('receipt3.json', 'w') as outfile:\n",
    "#     outfile.write(json_string)"
   ]
  },
  {
   "cell_type": "code",
   "execution_count": null,
   "id": "3861bd90",
   "metadata": {},
   "outputs": [],
   "source": []
  }
 ],
 "metadata": {
  "kernelspec": {
   "display_name": "Python 3",
   "language": "python",
   "name": "python3"
  },
  "language_info": {
   "codemirror_mode": {
    "name": "ipython",
    "version": 3
   },
   "file_extension": ".py",
   "mimetype": "text/x-python",
   "name": "python",
   "nbconvert_exporter": "python",
   "pygments_lexer": "ipython3",
   "version": "3.8.8"
  }
 },
 "nbformat": 4,
 "nbformat_minor": 5
}
